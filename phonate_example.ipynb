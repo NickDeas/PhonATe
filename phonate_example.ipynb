{
 "cells": [
  {
   "cell_type": "markdown",
   "id": "3163124f-10d6-4cec-8bf6-ce59f526e6f3",
   "metadata": {},
   "source": [
    "# Imports and Config "
   ]
  },
  {
   "cell_type": "code",
   "execution_count": 1,
   "id": "b177f5f9-b3d0-4c4e-96a5-5f107e3bd63b",
   "metadata": {},
   "outputs": [
    {
     "name": "stderr",
     "output_type": "stream",
     "text": [
      "/home/ndeas/envs/test_env/lib/python3.8/site-packages/transformers/utils/hub.py:124: FutureWarning: Using `TRANSFORMERS_CACHE` is deprecated and will be removed in v5 of Transformers. Use `HF_HOME` instead.\n",
      "  warnings.warn(\n",
      "2024-09-22 15:49:37.603807: I tensorflow/core/platform/cpu_feature_guard.cc:182] This TensorFlow binary is optimized to use available CPU instructions in performance-critical operations.\n",
      "To enable the following instructions: AVX2 FMA, in other operations, rebuild TensorFlow with the appropriate compiler flags.\n",
      "2024-09-22 15:49:53.207910: W tensorflow/compiler/tf2tensorrt/utils/py_utils.cc:38] TF-TRT Warning: Could not find TensorRT\n",
      "/home/ndeas/envs/test_env/lib/python3.8/site-packages/torch/__init__.py:614: UserWarning: torch.set_default_tensor_type() is deprecated as of PyTorch 2.1, please use torch.set_default_dtype() and torch.set_default_device() as alternatives. (Triggered internally at ../torch/csrc/tensor/python_tensor.cpp:451.)\n",
      "  _C._set_default_tensor_type(t)\n"
     ]
    }
   ],
   "source": [
    "from phonate import AALPhonate, phonate_filter\n",
    "\n",
    "import torch\n",
    "from transformers import T5ForConditionalGeneration, ByT5Tokenizer\n",
    "\n",
    "import pandas as pd\n",
    "pd.set_option('display.max_colwidth', 0)"
   ]
  },
  {
   "cell_type": "markdown",
   "id": "8b8ea6de-84d5-409d-a3f3-98f287a54e87",
   "metadata": {},
   "source": [
    "# Setup "
   ]
  },
  {
   "cell_type": "markdown",
   "id": "d5f91ce9-f5ce-4f8d-a3da-99b465bf980a",
   "metadata": {},
   "source": [
    "PhonATe is constructed from a Grapheme-to-Phoneme Model (G2P; `p2g_model`), Phoneme-to-Grapheme Model (P2G; `p2g_model`), and a byte-tokenizer (`tokenizer`). The G2P model is taken from (Zhu et al, 2022). The P2G model is further finetuned on pairs of AAL texts and G2P model-predicted phoneme sequences. "
   ]
  },
  {
   "cell_type": "markdown",
   "id": "01a8fe09-a5c9-4a3c-bb06-e77e83035a85",
   "metadata": {
    "tags": []
   },
   "source": [
    "## via Parameters"
   ]
  },
  {
   "cell_type": "markdown",
   "id": "36d292b2-5b47-44c5-9afc-6604d783d469",
   "metadata": {},
   "source": [
    "PhoATe can be constructed manually, and at minimum requires passing in G2P, P2G, and tokenizer models or checkpoints. "
   ]
  },
  {
   "cell_type": "code",
   "execution_count": 2,
   "id": "4eacb4d2-8210-49a8-bf46-aff784e73c0f",
   "metadata": {},
   "outputs": [],
   "source": [
    "# G2P_CHKPT = 'charsiu/g2p_multilingual_byT5_small_100'\n",
    "# P2G_CHKPT = 'phonate/t5-aal-p2g'\n",
    "# TOK_CHKPT = 'google/byt5-small'\n",
    "\n",
    "# DEVICE = torch.device('cuda:0')"
   ]
  },
  {
   "cell_type": "code",
   "execution_count": 3,
   "id": "20e43455-5305-49ba-9c90-7e0c0fc87662",
   "metadata": {},
   "outputs": [],
   "source": [
    "# g2p_model = T5ForConditionalGeneration.from_pretrained(G2P_CHKPT).to(DEVICE)\n",
    "# p2g_model = T5ForConditionalGeneration.from_pretrained(P2G_CHKPT).to(DEVICE)\n",
    "# tokenizer = ByT5Tokenizer.from_pretrained(TOK_CHKPT)"
   ]
  },
  {
   "cell_type": "code",
   "execution_count": 4,
   "id": "aec820cb-cc06-44b8-9232-33ecc5a3e9e9",
   "metadata": {},
   "outputs": [],
   "source": [
    "# aal_phonate = AALPhonate(p2g_model = p2g_model, g2p_model = g2p_model, tok = tokenizer, device = DEVICE)"
   ]
  },
  {
   "cell_type": "markdown",
   "id": "136e574a-142d-4966-8c55-4e3e25a7ab64",
   "metadata": {
    "tags": []
   },
   "source": [
    "## via Config File "
   ]
  },
  {
   "cell_type": "markdown",
   "id": "349e75af-f1e5-413f-acdc-828bf4c84a1c",
   "metadata": {},
   "source": [
    "PhonATe can also be constructed with a json configuration file. The AALPhonate documentation provides the possible config keys that can be used."
   ]
  },
  {
   "cell_type": "code",
   "execution_count": 5,
   "id": "bafbfd9d-a257-41aa-8e04-4a9265127b9f",
   "metadata": {},
   "outputs": [
    {
     "name": "stdout",
     "output_type": "stream",
     "text": [
      "Loading phonate from configuration: phonate/default_config.json\n",
      "Loading models and tokenizer...\r"
     ]
    },
    {
     "name": "stderr",
     "output_type": "stream",
     "text": [
      "/home/ndeas/envs/test_env/lib/python3.8/site-packages/huggingface_hub/file_download.py:1132: FutureWarning: `resume_download` is deprecated and will be removed in version 1.0.0. Downloads always resume when possible. If you want to force a new download, use `force_download=True`.\n",
      "  warnings.warn(\n",
      "/home/ndeas/envs/test_env/lib/python3.8/site-packages/torch/_utils.py:831: UserWarning: TypedStorage is deprecated. It will be removed in the future and UntypedStorage will be the only storage class. This should only matter to you if you are using storages directly.  To access UntypedStorage directly, use tensor.untyped_storage() instead of tensor.storage()\n",
      "  return self.fget.__get__(instance, owner)()\n"
     ]
    },
    {
     "name": "stdout",
     "output_type": "stream",
     "text": [
      "Finished loading models and tokenizer\n"
     ]
    }
   ],
   "source": [
    "aal_phonate = AALPhonate(config = 'phonate/default_config.json')"
   ]
  },
  {
   "cell_type": "markdown",
   "id": "d0a5de33-58b8-4a77-ab5b-e32ef38ea760",
   "metadata": {
    "tags": []
   },
   "source": [
    "# Augmenting Texts "
   ]
  },
  {
   "cell_type": "markdown",
   "id": "aba04252-d907-4828-acaa-bf8c6d48d85a",
   "metadata": {
    "tags": []
   },
   "source": [
    "## All Augmentations "
   ]
  },
  {
   "cell_type": "markdown",
   "id": "2ff3ff88-d438-453b-bb3f-73fc36656a39",
   "metadata": {},
   "source": [
    "All PhonATe augmentations can be applied using the `full_phon_aug` function and passing in a list of texts. The result is a list of the original phoneme transcriptions (`phon_trans`), the augmented phoneme sequences (`phon_aug`), the decoded PhonATe-augmented sequences (`paug_out`), and the cleaned decoded sequences (`clean_out`). The cleaning step helps ensure that capital letters, punctuation, and other features of the original text unrelated to phonological features are conserved."
   ]
  },
  {
   "cell_type": "code",
   "execution_count": 6,
   "id": "d75bdbd5-0559-48d0-af52-6bd288dd1ff3",
   "metadata": {},
   "outputs": [],
   "source": [
    "# Updating all probabilities to 1.0 to demonstrate augmentations\n",
    "aal_phonate.update_probs(1.0)"
   ]
  },
  {
   "cell_type": "code",
   "execution_count": 7,
   "id": "82e86b7f-ba69-4c91-b49e-7c01885a8236",
   "metadata": {},
   "outputs": [],
   "source": [
    "# Sample texts from the toxicity dataset\n",
    "ex_texts = [\"Hellloooo? I'm done with this....If I want information I'll just go the source or Encarta.\",\n",
    "            \"Or at least review the timing of Moreschi's obscene haste and agree that I had no way of seeing it before he acted.\",\n",
    "            \"The Billy the Kid article with my contributions has been vandalized on or about Dec. 14, 2015 by someone calling themselves KrakatoaKatie\",\n",
    "            \"you both sure do You want to give a free pass to every border jumper in this country you two are what's wrong here\"\n",
    "           ]"
   ]
  },
  {
   "cell_type": "code",
   "execution_count": 8,
   "id": "e4499d22-7d61-4aa5-a57c-c44f893e0a1a",
   "metadata": {},
   "outputs": [],
   "source": [
    "phon_trans, phon_aug, paug_out, clean_out = aal_phonate.full_phon_aug(ex_texts)"
   ]
  },
  {
   "cell_type": "code",
   "execution_count": 9,
   "id": "f4435fb2-e984-4aa8-918b-a58cb4da1828",
   "metadata": {},
   "outputs": [
    {
     "data": {
      "text/html": [
       "<div>\n",
       "<style scoped>\n",
       "    .dataframe tbody tr th:only-of-type {\n",
       "        vertical-align: middle;\n",
       "    }\n",
       "\n",
       "    .dataframe tbody tr th {\n",
       "        vertical-align: top;\n",
       "    }\n",
       "\n",
       "    .dataframe thead th {\n",
       "        text-align: right;\n",
       "    }\n",
       "</style>\n",
       "<table border=\"1\" class=\"dataframe\">\n",
       "  <thead>\n",
       "    <tr style=\"text-align: right;\">\n",
       "      <th></th>\n",
       "      <th>Original Text</th>\n",
       "      <th>Phoneme Transcripts</th>\n",
       "      <th>Augmented Phoneme Sequences</th>\n",
       "      <th>Decoded Augmentations</th>\n",
       "      <th>Clean PhonATe Result</th>\n",
       "    </tr>\n",
       "  </thead>\n",
       "  <tbody>\n",
       "    <tr>\n",
       "      <th>0</th>\n",
       "      <td>Hellloooo? I'm done with this....If I want information I'll just go the source or Encarta.</td>\n",
       "      <td>ˌhɛɫəˈu? ˈaɪm ˈdən ˈwɪθ this....If I ˈwɑnt ˌɪnfɝˈmeɪʃən ˈaɪɫ ˈdʒəst ˈɡoʊ ˈðɛ ˈsɔɹs ˈɔɹ Encarta.</td>\n",
       "      <td>ˌhɛɫəˈu? ˈaɪm ˈdən ˈwɪf this....If I ˈwɑnt ˌɪnfɝˈmeʃən ˈaɪɫ ˈdʒəs ˈɡo ˈdɛ ˈsɔɹs ˈɔɹ Encarta.</td>\n",
       "      <td>Hellloooo? I'm done wiff this....If I want infermation I'll jus go deh source or Encarta.</td>\n",
       "      <td>Hellloooo? I'm done wiff this....If I want infermation I'll jus go deh source or Encarta.</td>\n",
       "    </tr>\n",
       "    <tr>\n",
       "      <th>1</th>\n",
       "      <td>Or at least review the timing of Moreschi's obscene haste and agree that I had no way of seeing it before he acted.</td>\n",
       "      <td>ˈɔɹ ˈæt ˈɫist ɹivˈju ˈðɛ ˈtaɪmɪŋ ˈɑf mɔˈɹɛskiz əbˈsin ˈheɪst ˈænd əˈɡɹi ˈðæt I ˈhæd ˈnoʊ ˈweɪ ˈɑf ˈsiɪŋ ˈɪt bɪˈfɔɹ ˈhi acted.</td>\n",
       "      <td>ˈɔɹ ˈæt ˈɫis ɹivˈju ˈdɛ ˈtamɪŋ ˈɑf mɔˈɹɛskis əbˈsin ˈhest ˈænd ˈɡɹi ˈdæt I ˈhæt ˈno ˈwe ˈɑf ˈsiɪn ˈɪt bɪˈfɔɹ ˈhi acted.</td>\n",
       "      <td>Or at lease review deh taming of moreskis obscene hast and gree dat I hat no wa of seein it before he acted.</td>\n",
       "      <td>Or at lease review deh taming of Moreskis obscene hast and gree dat I hat no wa of seein it before he acted.</td>\n",
       "    </tr>\n",
       "    <tr>\n",
       "      <th>2</th>\n",
       "      <td>The Billy the Kid article with my contributions has been vandalized on or about Dec. 14, 2015 by someone calling themselves KrakatoaKatie</td>\n",
       "      <td>ˈðɛ ˈbɪɫi ˈðɛ ˈkɪd ˈɑɹtɪkəɫ ˈwɪθ ˈmaɪ contributions ˈhɑz ˈbɪn ˈvændəˌɫaɪzd ˈɑn ˈɔɹ əˈbaʊt ˈdɛk. 14, 2015 ˈbaɪ ˈsəmˌwən ˈkɔɫɪŋ ˌðɛmˈsɛɫvz KrakatoaKatie</td>\n",
       "      <td>ˈdɛ ˈbɪɫi ˈdɛ ˈkɪt ˈɑɹtɪkəɫ ˈwɪf ˈma contributions ˈhɑs ˈbɪn ˈvændəˌɫazd ˈɑn ˈɔɹ əˈbat ˈdɛk. 14, 2015 ˈba ˈsəmˌwən ˈkɔɫɪn ˌdɛmˈsɛɫvz KrakatoaKatie</td>\n",
       "      <td>deh Billy deh kit article wiff ma contributions hos been vandelized on or abat Dec. 14, 2015 ba someone callin demselves KrakatoaKatie</td>\n",
       "      <td>Deh Billy deh Kit article wiff ma contributions hos been vandelized on or abat Dec. 14, 2015 ba someone callin demselves KrakatoaKatie</td>\n",
       "    </tr>\n",
       "    <tr>\n",
       "      <th>3</th>\n",
       "      <td>you both sure do You want to give a free pass to every border jumper in this country you two are what's wrong here</td>\n",
       "      <td>ˈju ˈbɑθ ˈʃʊɹ ˈdu ˈju ˈwɑnt ˈtu ˈɡɪv a ˈfɹi ˈpæs ˈtu ˈɛvɹi ˈbɔɹdɝ ˈdʒəmpɝ ˈɪn ˈðɪs ˈkəntɹi ˈju ˈtu ˈɛɹ ˈwəts ˈɹɔŋ ˈhɪɹ</td>\n",
       "      <td>ˈju ˈbɑf ˈʃʊɹ ˈdu ˈju ˈwɑnt ˈtu ˈɡɪf a ˈfɹi ˈpæs ˈtu ˈɛvɹi ˈbɔɹdə ˈdʒəmpə ˈɪn ˈdɪs ˈkəntɹi ˈju ˈtu ˈɛɹ ˈwəts ˈɹɔŋ ˈhɪɹ</td>\n",
       "      <td>you boff sure do You want to giff a free pass to every borda jumpa in dis country you two are what's wrong here</td>\n",
       "      <td>you boff sure do You want to giff a free pass to every borda jumpa in dis country you two are what's wrong here</td>\n",
       "    </tr>\n",
       "  </tbody>\n",
       "</table>\n",
       "</div>"
      ],
      "text/plain": [
       "                                                                                                                               Original Text  \\\n",
       "0  Hellloooo? I'm done with this....If I want information I'll just go the source or Encarta.                                                  \n",
       "1  Or at least review the timing of Moreschi's obscene haste and agree that I had no way of seeing it before he acted.                         \n",
       "2  The Billy the Kid article with my contributions has been vandalized on or about Dec. 14, 2015 by someone calling themselves KrakatoaKatie   \n",
       "3  you both sure do You want to give a free pass to every border jumper in this country you two are what's wrong here                          \n",
       "\n",
       "                                                                                                                                      Phoneme Transcripts  \\\n",
       "0  ˌhɛɫəˈu? ˈaɪm ˈdən ˈwɪθ this....If I ˈwɑnt ˌɪnfɝˈmeɪʃən ˈaɪɫ ˈdʒəst ˈɡoʊ ˈðɛ ˈsɔɹs ˈɔɹ Encarta.                                                          \n",
       "1  ˈɔɹ ˈæt ˈɫist ɹivˈju ˈðɛ ˈtaɪmɪŋ ˈɑf mɔˈɹɛskiz əbˈsin ˈheɪst ˈænd əˈɡɹi ˈðæt I ˈhæd ˈnoʊ ˈweɪ ˈɑf ˈsiɪŋ ˈɪt bɪˈfɔɹ ˈhi acted.                            \n",
       "2  ˈðɛ ˈbɪɫi ˈðɛ ˈkɪd ˈɑɹtɪkəɫ ˈwɪθ ˈmaɪ contributions ˈhɑz ˈbɪn ˈvændəˌɫaɪzd ˈɑn ˈɔɹ əˈbaʊt ˈdɛk. 14, 2015 ˈbaɪ ˈsəmˌwən ˈkɔɫɪŋ ˌðɛmˈsɛɫvz KrakatoaKatie   \n",
       "3  ˈju ˈbɑθ ˈʃʊɹ ˈdu ˈju ˈwɑnt ˈtu ˈɡɪv a ˈfɹi ˈpæs ˈtu ˈɛvɹi ˈbɔɹdɝ ˈdʒəmpɝ ˈɪn ˈðɪs ˈkəntɹi ˈju ˈtu ˈɛɹ ˈwəts ˈɹɔŋ ˈhɪɹ                                   \n",
       "\n",
       "                                                                                                                          Augmented Phoneme Sequences  \\\n",
       "0  ˌhɛɫəˈu? ˈaɪm ˈdən ˈwɪf this....If I ˈwɑnt ˌɪnfɝˈmeʃən ˈaɪɫ ˈdʒəs ˈɡo ˈdɛ ˈsɔɹs ˈɔɹ Encarta.                                                         \n",
       "1  ˈɔɹ ˈæt ˈɫis ɹivˈju ˈdɛ ˈtamɪŋ ˈɑf mɔˈɹɛskis əbˈsin ˈhest ˈænd ˈɡɹi ˈdæt I ˈhæt ˈno ˈwe ˈɑf ˈsiɪn ˈɪt bɪˈfɔɹ ˈhi acted.                              \n",
       "2  ˈdɛ ˈbɪɫi ˈdɛ ˈkɪt ˈɑɹtɪkəɫ ˈwɪf ˈma contributions ˈhɑs ˈbɪn ˈvændəˌɫazd ˈɑn ˈɔɹ əˈbat ˈdɛk. 14, 2015 ˈba ˈsəmˌwən ˈkɔɫɪn ˌdɛmˈsɛɫvz KrakatoaKatie   \n",
       "3  ˈju ˈbɑf ˈʃʊɹ ˈdu ˈju ˈwɑnt ˈtu ˈɡɪf a ˈfɹi ˈpæs ˈtu ˈɛvɹi ˈbɔɹdə ˈdʒəmpə ˈɪn ˈdɪs ˈkəntɹi ˈju ˈtu ˈɛɹ ˈwəts ˈɹɔŋ ˈhɪɹ                               \n",
       "\n",
       "                                                                                                                    Decoded Augmentations  \\\n",
       "0  Hellloooo? I'm done wiff this....If I want infermation I'll jus go deh source or Encarta.                                                \n",
       "1  Or at lease review deh taming of moreskis obscene hast and gree dat I hat no wa of seein it before he acted.                             \n",
       "2  deh Billy deh kit article wiff ma contributions hos been vandelized on or abat Dec. 14, 2015 ba someone callin demselves KrakatoaKatie   \n",
       "3  you boff sure do You want to giff a free pass to every borda jumpa in dis country you two are what's wrong here                          \n",
       "\n",
       "                                                                                                                     Clean PhonATe Result  \n",
       "0  Hellloooo? I'm done wiff this....If I want infermation I'll jus go deh source or Encarta.                                               \n",
       "1  Or at lease review deh taming of Moreskis obscene hast and gree dat I hat no wa of seein it before he acted.                            \n",
       "2  Deh Billy deh Kit article wiff ma contributions hos been vandelized on or abat Dec. 14, 2015 ba someone callin demselves KrakatoaKatie  \n",
       "3  you boff sure do You want to giff a free pass to every borda jumpa in dis country you two are what's wrong here                         "
      ]
     },
     "execution_count": 9,
     "metadata": {},
     "output_type": "execute_result"
    }
   ],
   "source": [
    "res = pd.DataFrame([ex_texts, phon_trans, phon_aug, paug_out, clean_out]).transpose()\n",
    "res.columns = ['Original Text', 'Phoneme Transcripts', 'Augmented Phoneme Sequences', 'Decoded Augmentations', 'Clean PhonATe Result']\n",
    "res"
   ]
  },
  {
   "cell_type": "markdown",
   "id": "5e140b32-b3e1-47fb-af75-5ce29a578ecb",
   "metadata": {},
   "source": [
    "__Expected Result:__\n",
    "\n",
    "|    | Original Text                                                                                                                             | Phoneme Transcripts                                                                                                                                    | Augmented Phoneme Sequences                                                                                                                        | Decoded Augmentations                                                                                                                  | Clean PhonATe Result                                                                                                                   |\n",
    "|---:|:------------------------------------------------------------------------------------------------------------------------------------------|:-------------------------------------------------------------------------------------------------------------------------------------------------------|:---------------------------------------------------------------------------------------------------------------------------------------------------|:---------------------------------------------------------------------------------------------------------------------------------------|:---------------------------------------------------------------------------------------------------------------------------------------|\n",
    "|  0 | Hellloooo? I'm done with this....If I want information I'll just go the source or Encarta.                                                | ˌhɛɫəˈu? ˈaɪm ˈdən ˈwɪθ this....If I ˈwɑnt ˌɪnfɝˈmeɪʃən ˈaɪɫ ˈdʒəst ˈɡoʊ ˈðɛ ˈsɔɹs ˈɔɹ Encarta.                                                        | ˌhɛɫəˈu? ˈaɪm ˈdən ˈwɪf this....If I ˈwɑnt ˌɪnfɝˈmeʃən ˈaɪɫ ˈdʒəs ˈɡo ˈdɛ ˈsɔɹs ˈɔɹ Encarta.                                                       | Hellloooo? I'm done wiff this....If I want infermation I'll jus go deh source or Encarta.                                              | Hellloooo? I'm done wiff this....If I want infermation I'll jus go deh source or Encarta.                                              |\n",
    "|  1 | Or at least review the timing of Moreschi's obscene haste and agree that I had no way of seeing it before he acted.                       | ˈɔɹ ˈæt ˈɫist ɹivˈju ˈðɛ ˈtaɪmɪŋ ˈɑf mɔˈɹɛskiz əbˈsin ˈheɪst ˈænd əˈɡɹi ˈðæt I ˈhæd ˈnoʊ ˈweɪ ˈɑf ˈsiɪŋ ˈɪt bɪˈfɔɹ ˈhi acted.                          | ˈɔɹ ˈæt ˈɫis ɹivˈju ˈdɛ ˈtamɪŋ ˈɑf mɔˈɹɛskis əbˈsin ˈhest ˈænd ˈɡɹi ˈdæt I ˈhæt ˈno ˈwe ˈɑf ˈsiɪn ˈɪt bɪˈfɔɹ ˈhi acted.                            | Or at lease review deh taming of moreskis obscene hast and gree dat I hat no wa of seein it before he acted.                           | Or at lease review deh taming of Moreskis obscene hast and gree dat I hat no wa of seein it before he acted.                           |\n",
    "|  2 | The Billy the Kid article with my contributions has been vandalized on or about Dec. 14, 2015 by someone calling themselves KrakatoaKatie | ˈðɛ ˈbɪɫi ˈðɛ ˈkɪd ˈɑɹtɪkəɫ ˈwɪθ ˈmaɪ contributions ˈhɑz ˈbɪn ˈvændəˌɫaɪzd ˈɑn ˈɔɹ əˈbaʊt ˈdɛk. 14, 2015 ˈbaɪ ˈsəmˌwən ˈkɔɫɪŋ ˌðɛmˈsɛɫvz KrakatoaKatie | ˈdɛ ˈbɪɫi ˈdɛ ˈkɪt ˈɑɹtɪkəɫ ˈwɪf ˈma contributions ˈhɑs ˈbɪn ˈvændəˌɫazd ˈɑn ˈɔɹ əˈbat ˈdɛk. 14, 2015 ˈba ˈsəmˌwən ˈkɔɫɪn ˌdɛmˈsɛɫvz KrakatoaKatie | deh Billy deh kit article wiff ma contributions hos been vandelized on or abat Dec. 14, 2015 ba someone callin demselves KrakatoaKatie | Deh Billy deh Kit article wiff ma contributions hos been vandelized on or abat Dec. 14, 2015 ba someone callin demselves KrakatoaKatie |\n",
    "|  3 | you both sure do You want to give a free pass to every border jumper in this country you two are what's wrong here                        | ˈju ˈbɑθ ˈʃʊɹ ˈdu ˈju ˈwɑnt ˈtu ˈɡɪv a ˈfɹi ˈpæs ˈtu ˈɛvɹi ˈbɔɹdɝ ˈdʒəmpɝ ˈɪn ˈðɪs ˈkəntɹi ˈju ˈtu ˈɛɹ ˈwəts ˈɹɔŋ ˈhɪɹ                                 | ˈju ˈbɑf ˈʃʊɹ ˈdu ˈju ˈwɑnt ˈtu ˈɡɪf a ˈfɹi ˈpæs ˈtu ˈɛvɹi ˈbɔɹdə ˈdʒəmpə ˈɪn ˈdɪs ˈkəntɹi ˈju ˈtu ˈɛɹ ˈwəts ˈɹɔŋ ˈhɪɹ                             | you boff sure do You want to giff a free pass to every borda jumpa in dis country you two are what's wrong here                        | you boff sure do You want to giff a free pass to every borda jumpa in dis country you two are what's wrong here                        |"
   ]
  },
  {
   "cell_type": "markdown",
   "id": "f4cafc44-8f2b-4ff7-9a13-d6f74d129fca",
   "metadata": {},
   "source": [
    "Texts can additionally be filtered to remove transformations that results in, for example, a different existing word or grammatical role that likely alters the meaning "
   ]
  },
  {
   "cell_type": "code",
   "execution_count": 10,
   "id": "c730b645-1dcb-4d7f-bbde-8f9221d03d4c",
   "metadata": {},
   "outputs": [],
   "source": [
    "filt_texts = [phonate_filter.filter_transforms(orig_text, aug_text) for orig_text, aug_text in zip(ex_texts, clean_out)]"
   ]
  },
  {
   "cell_type": "code",
   "execution_count": 11,
   "id": "6d706670-ea73-4d62-bdd5-708d84710001",
   "metadata": {},
   "outputs": [
    {
     "data": {
      "text/plain": [
       "[\"Hellloooo? I'm done wif this....If I want infermation I'll jus go deh source or Encarta.\",\n",
       " 'Or at least review deh taming of Moreskis obscene hast and agree dat I had no way of seein it before he acted.',\n",
       " 'Deh Billy deh Kit article wif my contributions hos been vandelized on or about Dec. 14, 2015 by someone callin demselves KrakatoaKatie',\n",
       " \"you bof sure do You want to give a free pass to every borda jumpa in this country you two are what's wrong here\"]"
      ]
     },
     "execution_count": 11,
     "metadata": {},
     "output_type": "execute_result"
    }
   ],
   "source": [
    "filt_texts"
   ]
  },
  {
   "cell_type": "markdown",
   "id": "68e71e60-7fde-4cf9-813d-922faefc14bc",
   "metadata": {
    "tags": []
   },
   "source": [
    "## Individual Transformations "
   ]
  },
  {
   "cell_type": "markdown",
   "id": "7a0b5069-092e-4e9a-8806-36460eda5077",
   "metadata": {},
   "source": [
    "Transformations can also be applied individually by passing a single augmentation to the `full_phon_aug` function. The implemented augmentation names are:\n",
    "\n",
    "| Feature | Name |\n",
    "|---|---|\n",
    "| th-fronting | `th_front`|\n",
    "| Monophthongization | `dpt_simp` |\n",
    "| Non-rhoticity | `non_rhot` and `other_non_rhot` |\n",
    "| str-backing | `str_back` |\n",
    "| l-lessness | `l_del` |\n",
    "| Word-final devoicing | `fin_dvc` |\n",
    "| Haplology | `haplology` |\n",
    "| Consonant Cluster Reduction | `cons_red` |\n",
    "| g-dropping | `g_drop` |\n",
    "| Stress Dropping | `stress_drop` |"
   ]
  },
  {
   "cell_type": "code",
   "execution_count": 12,
   "id": "358ccd44-8655-4b9b-a7a0-1a8465177850",
   "metadata": {},
   "outputs": [],
   "source": [
    "_,_,_, clean_out = aal_phonate.full_phon_aug([ex_texts[2]], augs = ['th_front'])"
   ]
  },
  {
   "cell_type": "code",
   "execution_count": 13,
   "id": "2f74bfa3-ad80-4421-a5e3-390439076f20",
   "metadata": {},
   "outputs": [
    {
     "data": {
      "text/plain": [
       "['Deh Billy deh Kid article wiff my contributions has been vandalized on or about Dec. 14, 2015 by someone calling demselves KrakatoaKatie']"
      ]
     },
     "execution_count": 13,
     "metadata": {},
     "output_type": "execute_result"
    }
   ],
   "source": [
    "clean_out"
   ]
  },
  {
   "cell_type": "markdown",
   "id": "4843ee5d-ae65-49d3-bf77-2d249c95eff1",
   "metadata": {
    "tags": []
   },
   "source": [
    "## Random Transformations "
   ]
  },
  {
   "cell_type": "markdown",
   "id": "0e41bf2f-0c0d-4407-b376-35dcbe7af102",
   "metadata": {},
   "source": [
    "Random phonological transformations can be applied with the `full_random_aug` function and specifying the number of insertions, deletions, and substitutions on phoneme sequences."
   ]
  },
  {
   "cell_type": "code",
   "execution_count": 14,
   "id": "6b30b1e5-a66c-4e54-b9f5-88a4872a019f",
   "metadata": {},
   "outputs": [],
   "source": [
    "num_ins  = [1] * len(ex_texts)\n",
    "num_dels = [1] * len(ex_texts)\n",
    "num_subs = [1] * len(ex_texts)"
   ]
  },
  {
   "cell_type": "code",
   "execution_count": 15,
   "id": "202350f0-847b-42e5-823e-921d4be13927",
   "metadata": {},
   "outputs": [],
   "source": [
    "phon_trans, phon_aug, paug_out, clean_out = aal_phonate.full_random_aug(ex_texts, num_ins = num_ins, num_dels = num_dels, num_subs = num_subs)"
   ]
  },
  {
   "cell_type": "code",
   "execution_count": 16,
   "id": "5643f686-b02d-4f79-a065-21a050880058",
   "metadata": {},
   "outputs": [
    {
     "data": {
      "text/html": [
       "<div>\n",
       "<style scoped>\n",
       "    .dataframe tbody tr th:only-of-type {\n",
       "        vertical-align: middle;\n",
       "    }\n",
       "\n",
       "    .dataframe tbody tr th {\n",
       "        vertical-align: top;\n",
       "    }\n",
       "\n",
       "    .dataframe thead th {\n",
       "        text-align: right;\n",
       "    }\n",
       "</style>\n",
       "<table border=\"1\" class=\"dataframe\">\n",
       "  <thead>\n",
       "    <tr style=\"text-align: right;\">\n",
       "      <th></th>\n",
       "      <th>Original Text</th>\n",
       "      <th>Phoneme Transcripts</th>\n",
       "      <th>Augmented Phoneme Sequences</th>\n",
       "      <th>Decoded Augmentations</th>\n",
       "      <th>Clean Random Result</th>\n",
       "    </tr>\n",
       "  </thead>\n",
       "  <tbody>\n",
       "    <tr>\n",
       "      <th>0</th>\n",
       "      <td>Hellloooo? I'm done with this....If I want information I'll just go the source or Encarta.</td>\n",
       "      <td>ˌhɛɫəˈu? ˈaɪm ˈdən ˈwɪθ this....If I ˈwɑnt ˌɪnfɝˈmeɪʃən ˈaɪɫ ˈdʒəst ˈɡoʊ ˈðɛ ˈsɔɹs ˈɔɹ Encarta.</td>\n",
       "      <td>ˌhɫəˈu? ˈaɪm ˈdən ˈwɪθ thiʜ....If I ˈwɑnt ˌɪnfɝˈmeɪʃən ˈaɪɫ ˈdʒəst ˈɡoʊ ˈðɛ ˈsvɹs ˈɔɹ Encarta.</td>\n",
       "      <td>hlau? I'm done with this....If I want information I'll just go the svrs or Encarta.</td>\n",
       "      <td>Hlau? I'm done with this....If I want information I'll just go the svrs or Encarta.</td>\n",
       "    </tr>\n",
       "    <tr>\n",
       "      <th>1</th>\n",
       "      <td>Or at least review the timing of Moreschi's obscene haste and agree that I had no way of seeing it before he acted.</td>\n",
       "      <td>ˈɔɹ ˈæt ˈɫist ɹivˈju ˈðɛ ˈtaɪmɪŋ ˈɑf mɔˈɹɛskiz əbˈsin ˈheɪst ˈænd əˈɡɹi ˈðæt I ˈhæd ˈnoʊ ˈweɪ ˈɑf ˈsiɪŋ ˈɪt bɪˈfɔɹ ˈhi acted.</td>\n",
       "      <td>ˈɔɹ ˈæt ˈɫisɢ͡ʁ ɹivˈju ˈðɛ ˈtaɪmɪŋ ˈɑf mɔˈɹɛskz əbˈsin ˈheɪst ˈænd əˈɡɹi ˈðæt I ˈhæd ˈnoʊ ˈweɪ ˈɑf ˈsiɪŋ ˈɪt bɪˈfɔɹ ˈhi actʌd.</td>\n",
       "      <td>Or at leasegue review the timing of moresks obscene haste and agree that I had no way of seeing it before he acted.</td>\n",
       "      <td>Or at leasegue review the timing of Moresks obscene haste and agree that I had no way of seeing it before he acted.</td>\n",
       "    </tr>\n",
       "    <tr>\n",
       "      <th>2</th>\n",
       "      <td>The Billy the Kid article with my contributions has been vandalized on or about Dec. 14, 2015 by someone calling themselves KrakatoaKatie</td>\n",
       "      <td>ˈðɛ ˈbɪɫi ˈðɛ ˈkɪd ˈɑɹtɪkəɫ ˈwɪθ ˈmaɪ contributions ˈhɑz ˈbɪn ˈvændəˌɫaɪzd ˈɑn ˈɔɹ əˈbaʊt ˈdɛk. 14, 2015 ˈbaɪ ˈsəmˌwən ˈkɔɫɪŋ ˌðɛmˈsɛɫvz KrakatoaKatie</td>\n",
       "      <td>ˈðɛ ˈbɪɫi ˈðɛ ˈkɪd ˈɑɹtɪkəɫ ˈwɪθ ˈmaɪ contributions ˈhɑz ˈbɪn ˈvʎ̥ndəˌɫaɪzd ˈɑn ˈɔɹ əˈbaʊt ˈdɛk. 14, 2015 ˈbaɪ ˈsəqˌwən ˈkɔɫɪŋ ˌðɛmˈsɛɫvz KrakatoaKtie</td>\n",
       "      <td>The Billy the Kid article with my contributions has been vandalized on or about Dec. 14, 2015 by suquan calling themselves KrakatoaKatie</td>\n",
       "      <td>The Billy the Kid article with my contributions has been vandalized on or about Dec. 14, 2015 by suquan calling themselves KrakatoaKatie</td>\n",
       "    </tr>\n",
       "    <tr>\n",
       "      <th>3</th>\n",
       "      <td>you both sure do You want to give a free pass to every border jumper in this country you two are what's wrong here</td>\n",
       "      <td>ˈju ˈbɑθ ˈʃʊɹ ˈdu ˈju ˈwɑnt ˈtu ˈɡɪv a ˈfɹi ˈpæs ˈtu ˈɛvɹi ˈbɔɹdɝ ˈdʒəmpɝ ˈɪn ˈðɪs ˈkəntɹi ˈju ˈtu ˈɛɹ ˈwəts ˈɹɔŋ ˈhɪɹ</td>\n",
       "      <td>ˈju ˈbɑθ ˈʃʊɹ ˈdu ˈju ˈwɑnt ˈtu ˈɡɪʟ̝̊ a ˈfɹi ˈpɻs ˈtu ˈɛɹi ˈbɔɹdɝ ˈdʒəmpɝ ˈɪn ˈðɪs ˈkəntɹi ˈju ˈtu ˈɛɹ ˈwəts ˈɹɔŋ ˈhɪɹ</td>\n",
       "      <td>you both sure do You want to gishrow a free puss to airy border jumper in this country you two are what's wrong here</td>\n",
       "      <td>you both sure do You want to gishrow a free puss to airy border jumper in this country you two are what's wrong here</td>\n",
       "    </tr>\n",
       "  </tbody>\n",
       "</table>\n",
       "</div>"
      ],
      "text/plain": [
       "                                                                                                                               Original Text  \\\n",
       "0  Hellloooo? I'm done with this....If I want information I'll just go the source or Encarta.                                                  \n",
       "1  Or at least review the timing of Moreschi's obscene haste and agree that I had no way of seeing it before he acted.                         \n",
       "2  The Billy the Kid article with my contributions has been vandalized on or about Dec. 14, 2015 by someone calling themselves KrakatoaKatie   \n",
       "3  you both sure do You want to give a free pass to every border jumper in this country you two are what's wrong here                          \n",
       "\n",
       "                                                                                                                                      Phoneme Transcripts  \\\n",
       "0  ˌhɛɫəˈu? ˈaɪm ˈdən ˈwɪθ this....If I ˈwɑnt ˌɪnfɝˈmeɪʃən ˈaɪɫ ˈdʒəst ˈɡoʊ ˈðɛ ˈsɔɹs ˈɔɹ Encarta.                                                          \n",
       "1  ˈɔɹ ˈæt ˈɫist ɹivˈju ˈðɛ ˈtaɪmɪŋ ˈɑf mɔˈɹɛskiz əbˈsin ˈheɪst ˈænd əˈɡɹi ˈðæt I ˈhæd ˈnoʊ ˈweɪ ˈɑf ˈsiɪŋ ˈɪt bɪˈfɔɹ ˈhi acted.                            \n",
       "2  ˈðɛ ˈbɪɫi ˈðɛ ˈkɪd ˈɑɹtɪkəɫ ˈwɪθ ˈmaɪ contributions ˈhɑz ˈbɪn ˈvændəˌɫaɪzd ˈɑn ˈɔɹ əˈbaʊt ˈdɛk. 14, 2015 ˈbaɪ ˈsəmˌwən ˈkɔɫɪŋ ˌðɛmˈsɛɫvz KrakatoaKatie   \n",
       "3  ˈju ˈbɑθ ˈʃʊɹ ˈdu ˈju ˈwɑnt ˈtu ˈɡɪv a ˈfɹi ˈpæs ˈtu ˈɛvɹi ˈbɔɹdɝ ˈdʒəmpɝ ˈɪn ˈðɪs ˈkəntɹi ˈju ˈtu ˈɛɹ ˈwəts ˈɹɔŋ ˈhɪɹ                                   \n",
       "\n",
       "                                                                                                                              Augmented Phoneme Sequences  \\\n",
       "0  ˌhɫəˈu? ˈaɪm ˈdən ˈwɪθ thiʜ....If I ˈwɑnt ˌɪnfɝˈmeɪʃən ˈaɪɫ ˈdʒəst ˈɡoʊ ˈðɛ ˈsvɹs ˈɔɹ Encarta.                                                           \n",
       "1  ˈɔɹ ˈæt ˈɫisɢ͡ʁ ɹivˈju ˈðɛ ˈtaɪmɪŋ ˈɑf mɔˈɹɛskz əbˈsin ˈheɪst ˈænd əˈɡɹi ˈðæt I ˈhæd ˈnoʊ ˈweɪ ˈɑf ˈsiɪŋ ˈɪt bɪˈfɔɹ ˈhi actʌd.                           \n",
       "2  ˈðɛ ˈbɪɫi ˈðɛ ˈkɪd ˈɑɹtɪkəɫ ˈwɪθ ˈmaɪ contributions ˈhɑz ˈbɪn ˈvʎ̥ndəˌɫaɪzd ˈɑn ˈɔɹ əˈbaʊt ˈdɛk. 14, 2015 ˈbaɪ ˈsəqˌwən ˈkɔɫɪŋ ˌðɛmˈsɛɫvz KrakatoaKtie   \n",
       "3  ˈju ˈbɑθ ˈʃʊɹ ˈdu ˈju ˈwɑnt ˈtu ˈɡɪʟ̝̊ a ˈfɹi ˈpɻs ˈtu ˈɛɹi ˈbɔɹdɝ ˈdʒəmpɝ ˈɪn ˈðɪs ˈkəntɹi ˈju ˈtu ˈɛɹ ˈwəts ˈɹɔŋ ˈhɪɹ                                  \n",
       "\n",
       "                                                                                                                      Decoded Augmentations  \\\n",
       "0  hlau? I'm done with this....If I want information I'll just go the svrs or Encarta.                                                        \n",
       "1  Or at leasegue review the timing of moresks obscene haste and agree that I had no way of seeing it before he acted.                        \n",
       "2  The Billy the Kid article with my contributions has been vandalized on or about Dec. 14, 2015 by suquan calling themselves KrakatoaKatie   \n",
       "3  you both sure do You want to gishrow a free puss to airy border jumper in this country you two are what's wrong here                       \n",
       "\n",
       "                                                                                                                        Clean Random Result  \n",
       "0  Hlau? I'm done with this....If I want information I'll just go the svrs or Encarta.                                                       \n",
       "1  Or at leasegue review the timing of Moresks obscene haste and agree that I had no way of seeing it before he acted.                       \n",
       "2  The Billy the Kid article with my contributions has been vandalized on or about Dec. 14, 2015 by suquan calling themselves KrakatoaKatie  \n",
       "3  you both sure do You want to gishrow a free puss to airy border jumper in this country you two are what's wrong here                      "
      ]
     },
     "execution_count": 16,
     "metadata": {},
     "output_type": "execute_result"
    }
   ],
   "source": [
    "res = pd.DataFrame([ex_texts, phon_trans, phon_aug, paug_out, clean_out]).transpose()\n",
    "res.columns = ['Original Text', 'Phoneme Transcripts', 'Augmented Phoneme Sequences', 'Decoded Augmentations', 'Clean Random Result']\n",
    "res"
   ]
  }
 ],
 "metadata": {
  "kernelspec": {
   "display_name": "Python 3",
   "language": "python",
   "name": "python3"
  },
  "language_info": {
   "codemirror_mode": {
    "name": "ipython",
    "version": 3
   },
   "file_extension": ".py",
   "mimetype": "text/x-python",
   "name": "python",
   "nbconvert_exporter": "python",
   "pygments_lexer": "ipython3",
   "version": "3.8.10"
  }
 },
 "nbformat": 4,
 "nbformat_minor": 5
}
